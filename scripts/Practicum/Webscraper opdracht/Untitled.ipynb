{
 "cells": [
  {
   "cell_type": "code",
   "execution_count": 142,
   "id": "3035affb-0424-478b-b31b-56fc02e345e5",
   "metadata": {},
   "outputs": [],
   "source": [
    "from selenium import webdriver\n",
    "from selenium.webdriver.common.keys import Keys\n",
    "from webdriver_manager.chrome import ChromeDriverManager\n",
    "from selenium.webdriver.common.by import By\n",
    "from selenium.webdriver.support.ui import WebDriverWait\n",
    "from selenium.webdriver.support import expected_conditions as EC\n",
    "from selenium.common.exceptions import TimeoutException\n",
    "from selenium.webdriver.support.ui import Select\n",
    "from selenium.webdriver.common.action_chains import ActionChains\n",
    "from bs4 import BeautifulSoup\n",
    "import requests\n",
    "import time"
   ]
  },
  {
   "cell_type": "code",
   "execution_count": 143,
   "id": "b01ae245-26cd-42ed-8867-d938d9faefc9",
   "metadata": {},
   "outputs": [
    {
     "name": "stderr",
     "output_type": "stream",
     "text": [
      "C:\\Users\\amad_\\AppData\\Local\\Temp\\ipykernel_26564\\3157749900.py:1: DeprecationWarning: executable_path has been deprecated, please pass in a Service object\n",
      "  driver = webdriver.Chrome(ChromeDriverManager().install())\n"
     ]
    }
   ],
   "source": [
    "driver = webdriver.Chrome(ChromeDriverManager().install())\n",
    "wait = WebDriverWait(driver, 30)"
   ]
  },
  {
   "cell_type": "code",
   "execution_count": 144,
   "id": "94d6eb4d-76f5-47bc-b144-661ba6bccfac",
   "metadata": {},
   "outputs": [],
   "source": [
    "def login():\n",
    "    url = \"https://www.sanisupply.nl/account/login/\"\n",
    "    email = 'davincitegels@gmail.com'\n",
    "    wachtwoord = \"arnhemarnhem\"\n",
    "    driver.get(url)\n",
    "    time.sleep(1)\n",
    "    driver.maximize_window()\n",
    "    time.sleep(1)\n",
    "    driver.find_element('id', \"gui-form-email\").send_keys(email)\n",
    "    time.sleep(1)\n",
    "    driver.find_element('id', \"gui-form-password\").send_keys(wachtwoord)\n",
    "    time.sleep(1)\n",
    "    driver.find_element('id', \"gui-form-password\").send_keys(Keys.ENTER)\n",
    "    time.sleep(3)\n",
    "    driver.get('https://www.sanisupply.nl/collection/page8.html?limit=96')"
   ]
  },
  {
   "cell_type": "code",
   "execution_count": 145,
   "id": "d871b666-a7d1-4e29-b885-bbefed3d0772",
   "metadata": {},
   "outputs": [],
   "source": [
    "login()"
   ]
  },
  {
   "cell_type": "code",
   "execution_count": 146,
   "id": "807fad59-d113-449e-9150-6afdf387cef3",
   "metadata": {},
   "outputs": [],
   "source": [
    "html = driver.page_source"
   ]
  },
  {
   "cell_type": "code",
   "execution_count": 147,
   "id": "e8221e33-8669-47ad-9532-86702cff9891",
   "metadata": {},
   "outputs": [],
   "source": [
    "soup = BeautifulSoup(html, 'html.parser')"
   ]
  },
  {
   "cell_type": "code",
   "execution_count": 148,
   "id": "656bc80f-3d4e-4da2-a8db-fe340167944a",
   "metadata": {
    "tags": []
   },
   "outputs": [
    {
     "name": "stdout",
     "output_type": "stream",
     "text": [
      "€251,68\n",
      "€251,68\n",
      "€251,68\n",
      "€251,68\n",
      "€176,18\n",
      "€239,10\n",
      "€213,93\n",
      "€151,01\n",
      "€125,84\n",
      "€125,84\n",
      "€163,59\n",
      "€125,84\n",
      "€201,34\n",
      "€138,42\n",
      "€125,84\n",
      "€138,42\n",
      "€239,10\n",
      "€176,18\n",
      "€239,10\n",
      "€239,10\n",
      "€239,10\n",
      "€239,10\n",
      "€188,76\n",
      "€239,10\n",
      "€239,10\n",
      "€181,21\n",
      "€239,10\n",
      "€239,10\n",
      "€226,51\n",
      "€213,93\n",
      "€151,01\n",
      "€213,93\n",
      "€213,93\n",
      "€213,93\n",
      "€163,59\n",
      "€213,93\n",
      "€239,10\n",
      "€163,59\n",
      "€226,51\n",
      "€377,52\n",
      "€327,18\n",
      "€755,04\n",
      "€1.107,39\n",
      "€1.308,74\n",
      "€893,46\n",
      "€1.006,72\n",
      "€893,46\n",
      "€1.107,39\n",
      "€1.208,06\n",
      "€1.421,99\n",
      "€616,62\n",
      "€717,29\n",
      "€402,69\n",
      "€541,11\n",
      "€314,60\n",
      "€377,52\n",
      "€201,34\n",
      "€251,68\n",
      "€780,21\n",
      "€918,63\n",
      "€1.157,73\n",
      "€226,51\n"
     ]
    }
   ],
   "source": [
    "import requests\n",
    "pricelijst = soup.find_all('span', {'class':\"item-price\"})\n",
    "for i in pricelijst:\n",
    "    print( i.text)\n",
    "\n",
    "\n",
    "\n",
    "# for x in range (1, 2):\n",
    "#     r = requests.get(f'https://www.sanisupply.nl/collection/page{x}.html')\n",
    "#     soup = BeautifulSoup(r.content, 'lxml')\n",
    "\n",
    "\n",
    "#     productlist = soup.find_all('h3', class_='item-name')\n",
    "\n",
    "#     for item in productlist:\n",
    "#         for link in item.find_all('a', href=True):\n",
    "#             print(link['href'])\n",
    "#             productlinks.append(link['href'])\n"
   ]
  },
  {
   "cell_type": "code",
   "execution_count": null,
   "id": "8e626af4-c8cb-4922-bed6-1f2cbc999bf1",
   "metadata": {},
   "outputs": [],
   "source": []
  },
  {
   "cell_type": "code",
   "execution_count": null,
   "id": "b2f82dc7-8c36-42c1-bcbc-2ef56c466824",
   "metadata": {},
   "outputs": [],
   "source": []
  }
 ],
 "metadata": {
  "kernelspec": {
   "display_name": "Python 3 (ipykernel)",
   "language": "python",
   "name": "python3"
  },
  "language_info": {
   "codemirror_mode": {
    "name": "ipython",
    "version": 3
   },
   "file_extension": ".py",
   "mimetype": "text/x-python",
   "name": "python",
   "nbconvert_exporter": "python",
   "pygments_lexer": "ipython3",
   "version": "3.10.6"
  }
 },
 "nbformat": 4,
 "nbformat_minor": 5
}
